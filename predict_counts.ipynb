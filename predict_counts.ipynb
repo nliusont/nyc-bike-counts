{
 "cells": [
  {
   "cell_type": "markdown",
   "metadata": {},
   "source": [
    "This notebook takes the output of make_dataset_w_feature.ipynb and trains an xgboost regressor model"
   ]
  },
  {
   "cell_type": "code",
   "execution_count": 27,
   "metadata": {},
   "outputs": [],
   "source": [
    "# data\n",
    "import pandas as pd\n",
    "import numpy as np\n",
    "from pandas.tseries.holiday import USFederalHolidayCalendar as calendar\n",
    "import matplotlib.pyplot as plt\n",
    "\n",
    "\n",
    "# modelling\n",
    "from voyagerOne import learn # private library for learning, not explicitly needed\n",
    "from sklearn.model_selection import train_test_split, RandomizedSearchCV\n",
    "from sklearn.metrics import mean_squared_error, mean_absolute_error\n",
    "from scipy.stats import uniform, randint\n",
    "import xgboost as xgb\n",
    "\n",
    "# utils\n",
    "from datetime import datetime, timedelta\n",
    "import pickle\n",
    "\n",
    "import warnings\n",
    "# Suppress FutureWarnings\n",
    "warnings.filterwarnings(\"ignore\", category=FutureWarning)"
   ]
  },
  {
   "cell_type": "code",
   "execution_count": 2,
   "metadata": {},
   "outputs": [
    {
     "data": {
      "text/html": [
       "<div>\n",
       "<style scoped>\n",
       "    .dataframe tbody tr th:only-of-type {\n",
       "        vertical-align: middle;\n",
       "    }\n",
       "\n",
       "    .dataframe tbody tr th {\n",
       "        vertical-align: top;\n",
       "    }\n",
       "\n",
       "    .dataframe thead th {\n",
       "        text-align: right;\n",
       "    }\n",
       "</style>\n",
       "<table border=\"1\" class=\"dataframe\">\n",
       "  <thead>\n",
       "    <tr style=\"text-align: right;\">\n",
       "      <th></th>\n",
       "      <th>date</th>\n",
       "      <th>counts</th>\n",
       "      <th>awnd</th>\n",
       "      <th>prcp</th>\n",
       "      <th>snow</th>\n",
       "      <th>snwd</th>\n",
       "      <th>tavg</th>\n",
       "      <th>tmax</th>\n",
       "      <th>tmin</th>\n",
       "      <th>dew</th>\n",
       "      <th>...</th>\n",
       "      <th>real_feel</th>\n",
       "      <th>day_real_feel</th>\n",
       "      <th>wind</th>\n",
       "      <th>day_wind</th>\n",
       "      <th>year</th>\n",
       "      <th>month</th>\n",
       "      <th>dow</th>\n",
       "      <th>dom</th>\n",
       "      <th>hol</th>\n",
       "      <th>prev_count</th>\n",
       "    </tr>\n",
       "  </thead>\n",
       "  <tbody>\n",
       "    <tr>\n",
       "      <th>1</th>\n",
       "      <td>2014-01-02</td>\n",
       "      <td>2592</td>\n",
       "      <td>18.8</td>\n",
       "      <td>0.18</td>\n",
       "      <td>3.4</td>\n",
       "      <td>0.0</td>\n",
       "      <td>29.0</td>\n",
       "      <td>32.0</td>\n",
       "      <td>18.0</td>\n",
       "      <td>20.025000</td>\n",
       "      <td>...</td>\n",
       "      <td>15.595833</td>\n",
       "      <td>15.844444</td>\n",
       "      <td>14.795833</td>\n",
       "      <td>16.533333</td>\n",
       "      <td>2014</td>\n",
       "      <td>1</td>\n",
       "      <td>3</td>\n",
       "      <td>2</td>\n",
       "      <td>False</td>\n",
       "      <td>2349</td>\n",
       "    </tr>\n",
       "    <tr>\n",
       "      <th>2</th>\n",
       "      <td>2014-01-03</td>\n",
       "      <td>589</td>\n",
       "      <td>18.1</td>\n",
       "      <td>0.25</td>\n",
       "      <td>4.5</td>\n",
       "      <td>7.1</td>\n",
       "      <td>17.0</td>\n",
       "      <td>19.0</td>\n",
       "      <td>10.0</td>\n",
       "      <td>1.708333</td>\n",
       "      <td>...</td>\n",
       "      <td>-3.170833</td>\n",
       "      <td>-1.566667</td>\n",
       "      <td>15.866667</td>\n",
       "      <td>16.522222</td>\n",
       "      <td>2014</td>\n",
       "      <td>1</td>\n",
       "      <td>4</td>\n",
       "      <td>3</td>\n",
       "      <td>False</td>\n",
       "      <td>2592</td>\n",
       "    </tr>\n",
       "    <tr>\n",
       "      <th>3</th>\n",
       "      <td>2014-01-04</td>\n",
       "      <td>886</td>\n",
       "      <td>6.0</td>\n",
       "      <td>0.00</td>\n",
       "      <td>0.0</td>\n",
       "      <td>7.9</td>\n",
       "      <td>16.0</td>\n",
       "      <td>28.0</td>\n",
       "      <td>9.0</td>\n",
       "      <td>1.208333</td>\n",
       "      <td>...</td>\n",
       "      <td>0.275000</td>\n",
       "      <td>3.800000</td>\n",
       "      <td>5.550000</td>\n",
       "      <td>5.277778</td>\n",
       "      <td>2014</td>\n",
       "      <td>1</td>\n",
       "      <td>5</td>\n",
       "      <td>4</td>\n",
       "      <td>False</td>\n",
       "      <td>589</td>\n",
       "    </tr>\n",
       "    <tr>\n",
       "      <th>4</th>\n",
       "      <td>2014-01-05</td>\n",
       "      <td>1018</td>\n",
       "      <td>5.8</td>\n",
       "      <td>0.10</td>\n",
       "      <td>0.0</td>\n",
       "      <td>3.9</td>\n",
       "      <td>29.0</td>\n",
       "      <td>50.0</td>\n",
       "      <td>25.0</td>\n",
       "      <td>21.820833</td>\n",
       "      <td>...</td>\n",
       "      <td>18.175000</td>\n",
       "      <td>21.900000</td>\n",
       "      <td>6.250000</td>\n",
       "      <td>3.555556</td>\n",
       "      <td>2014</td>\n",
       "      <td>1</td>\n",
       "      <td>6</td>\n",
       "      <td>5</td>\n",
       "      <td>False</td>\n",
       "      <td>886</td>\n",
       "    </tr>\n",
       "    <tr>\n",
       "      <th>5</th>\n",
       "      <td>2014-01-06</td>\n",
       "      <td>2998</td>\n",
       "      <td>17.0</td>\n",
       "      <td>0.31</td>\n",
       "      <td>0.0</td>\n",
       "      <td>0.0</td>\n",
       "      <td>45.0</td>\n",
       "      <td>53.0</td>\n",
       "      <td>20.0</td>\n",
       "      <td>39.470833</td>\n",
       "      <td>...</td>\n",
       "      <td>34.404167</td>\n",
       "      <td>37.288889</td>\n",
       "      <td>15.366667</td>\n",
       "      <td>13.822222</td>\n",
       "      <td>2014</td>\n",
       "      <td>1</td>\n",
       "      <td>0</td>\n",
       "      <td>6</td>\n",
       "      <td>False</td>\n",
       "      <td>1018</td>\n",
       "    </tr>\n",
       "  </tbody>\n",
       "</table>\n",
       "<p>5 rows × 26 columns</p>\n",
       "</div>"
      ],
      "text/plain": [
       "        date  counts  awnd  prcp  snow  snwd  tavg  tmax  tmin        dew  \\\n",
       "1 2014-01-02    2592  18.8  0.18   3.4   0.0  29.0  32.0  18.0  20.025000   \n",
       "2 2014-01-03     589  18.1  0.25   4.5   7.1  17.0  19.0  10.0   1.708333   \n",
       "3 2014-01-04     886   6.0  0.00   0.0   7.9  16.0  28.0   9.0   1.208333   \n",
       "4 2014-01-05    1018   5.8  0.10   0.0   3.9  29.0  50.0  25.0  21.820833   \n",
       "5 2014-01-06    2998  17.0  0.31   0.0   0.0  45.0  53.0  20.0  39.470833   \n",
       "\n",
       "   ...  real_feel  day_real_feel       wind   day_wind  year  month  dow  dom  \\\n",
       "1  ...  15.595833      15.844444  14.795833  16.533333  2014      1    3    2   \n",
       "2  ...  -3.170833      -1.566667  15.866667  16.522222  2014      1    4    3   \n",
       "3  ...   0.275000       3.800000   5.550000   5.277778  2014      1    5    4   \n",
       "4  ...  18.175000      21.900000   6.250000   3.555556  2014      1    6    5   \n",
       "5  ...  34.404167      37.288889  15.366667  13.822222  2014      1    0    6   \n",
       "\n",
       "     hol  prev_count  \n",
       "1  False        2349  \n",
       "2  False        2592  \n",
       "3  False         589  \n",
       "4  False         886  \n",
       "5  False        1018  \n",
       "\n",
       "[5 rows x 26 columns]"
      ]
     },
     "execution_count": 2,
     "metadata": {},
     "output_type": "execute_result"
    }
   ],
   "source": [
    "df = pd.read_pickle('data/by_day_weather.pkl')\n",
    "\n",
    "# day of week\n",
    "df['year'] = df['date'].dt.year\n",
    "df['month'] = df['date'].dt.month\n",
    "df['date'] = pd.to_datetime(df['date'])\n",
    "df['dow'] = df['date'].dt.dayofweek\n",
    "df['dom'] = df['date'].dt.day\n",
    "\n",
    "# holidays\n",
    "cal = calendar()\n",
    "holidays = cal.holidays(start=df['date'].min(), end=df['date'].max())\n",
    "df['hol'] = df['date'].isin(holidays)\n",
    "\n",
    "# add previous day as feature\n",
    "df['prev_count'] = df['counts'].shift(1)\n",
    "# drop the first row\n",
    "df = df.dropna()\n",
    "df['prev_count'] = df['prev_count'].astype(int)\n",
    " \n",
    "df.head()"
   ]
  },
  {
   "cell_type": "markdown",
   "metadata": {},
   "source": [
    "## test an array of regressors"
   ]
  },
  {
   "cell_type": "code",
   "execution_count": 3,
   "metadata": {},
   "outputs": [],
   "source": [
    "# withold Jan 2023 and Aug 2023 from all training and validation\n",
    "month1_to_withold = (df['date'].dt.year==2023) & (df['date'].dt.month==8)\n",
    "month2_to_withold = (df['date'].dt.year==2023) & (df['date'].dt.month==1)\n",
    "withhold_range = month1_to_withold | month2_to_withold\n",
    "\n",
    "# create X and y for training and validation\n",
    "X = df.drop(columns=['date',\n",
    "                    'counts', \n",
    "                    'tavg', \n",
    "                    'snwd', \n",
    "                    'day_tmin', \n",
    "                    'is_day', \n",
    "                    'precip',\n",
    "                    'dew',\n",
    "                    'day_dew',\n",
    "                    'real_feel',\n",
    "                    'snow',\n",
    "                    'awnd',\n",
    "                    'wind',\n",
    "                    ]).loc[~withhold_range]\n",
    "\n",
    "y = df.loc[~withhold_range, 'counts']\n",
    "\n",
    "# create train and val sets\n",
    "X_train, X_val, y_train, y_test = train_test_split(X, y.to_numpy().ravel(), test_size=0.3)"
   ]
  },
  {
   "cell_type": "code",
   "execution_count": 709,
   "metadata": {},
   "outputs": [
    {
     "name": "stdout",
     "output_type": "stream",
     "text": [
      "Testing beginning...\n",
      "Beginning RandomForest...\n",
      "RandomForest accuracy: 1886.79\n",
      "Beginning XGBoost...\n",
      "XGBoost accuracy: 1825.62\n",
      "Beginning KNN...\n",
      "KNN accuracy: 3718.89\n",
      "Beginning LinearRegression...\n",
      "LinearRegression accuracy: 2460.35\n",
      "Beginning SVR...\n",
      "SVR accuracy: 6932.19\n",
      "Testing Complete.\n"
     ]
    }
   ],
   "source": [
    "# test array of regressors\n",
    "results = learn.test_regressors(X_train, X_val, y_train, y_test, cb=False)"
   ]
  },
  {
   "cell_type": "markdown",
   "metadata": {},
   "source": [
    "## train xgboost"
   ]
  },
  {
   "cell_type": "code",
   "execution_count": 37,
   "metadata": {},
   "outputs": [
    {
     "name": "stdout",
     "output_type": "stream",
     "text": [
      "Mean Absolute Error Train: 998.6807390069432\n",
      "Mean Absolute Error Test: 1567.8659245642957\n"
     ]
    }
   ],
   "source": [
    "# initialize the XGBoost model for regression:\n",
    "model = xgb.XGBRegressor(\n",
    "    learning_rate=0.005,\n",
    "    n_estimators=2200,\n",
    "    max_depth=5,\n",
    "    eval_metric='mae',\n",
    "    subsample=0.3,\n",
    "    colsample_bytree=0.7,\n",
    "    verbosity=1 \n",
    ")\n",
    "\n",
    "# fit model\n",
    "model.fit(X_train, y_train)\n",
    "\n",
    "# predict on validation set\n",
    "y_pred_train = model.predict(X_train)\n",
    "y_pred_val = model.predict(X_val)\n",
    "\n",
    "\n",
    "# Calculate the mean absolute error (MAE)\n",
    "mae_train = mean_absolute_error(y_train, y_pred_train)\n",
    "mae_val = mean_absolute_error(y_test, y_pred_val)\n",
    "print(f\"Mean Absolute Error Train: {mae_train}\")\n",
    "print(f\"Mean Absolute Error Test: {mae_val}\")"
   ]
  },
  {
   "cell_type": "code",
   "execution_count": 38,
   "metadata": {},
   "outputs": [
    {
     "data": {
      "text/plain": [
       "0.13535078893739685"
      ]
     },
     "execution_count": 38,
     "metadata": {},
     "output_type": "execute_result"
    }
   ],
   "source": [
    "# build a df with validation results\n",
    "val_df = df.loc[X_val.index]\n",
    "val_df['y_pred'] = y_pred_val\n",
    "val_df['error'] = abs(val_df['y_pred'] - val_df['counts'])\n",
    "val_df['perc_error'] = val_df['error'] / val_df['counts']\n",
    "val_df['perc_error'].mean() # calculate average mape"
   ]
  },
  {
   "cell_type": "code",
   "execution_count": 39,
   "metadata": {},
   "outputs": [
    {
     "data": {
      "text/html": [
       "<div>\n",
       "<style scoped>\n",
       "    .dataframe tbody tr th:only-of-type {\n",
       "        vertical-align: middle;\n",
       "    }\n",
       "\n",
       "    .dataframe tbody tr th {\n",
       "        vertical-align: top;\n",
       "    }\n",
       "\n",
       "    .dataframe thead th {\n",
       "        text-align: right;\n",
       "    }\n",
       "</style>\n",
       "<table border=\"1\" class=\"dataframe\">\n",
       "  <thead>\n",
       "    <tr style=\"text-align: right;\">\n",
       "      <th></th>\n",
       "      <th>param</th>\n",
       "      <th>imp</th>\n",
       "    </tr>\n",
       "  </thead>\n",
       "  <tbody>\n",
       "    <tr>\n",
       "      <th>1</th>\n",
       "      <td>tmax</td>\n",
       "      <td>0.284766</td>\n",
       "    </tr>\n",
       "    <tr>\n",
       "      <th>5</th>\n",
       "      <td>day_real_feel</td>\n",
       "      <td>0.157308</td>\n",
       "    </tr>\n",
       "    <tr>\n",
       "      <th>12</th>\n",
       "      <td>prev_count</td>\n",
       "      <td>0.102187</td>\n",
       "    </tr>\n",
       "    <tr>\n",
       "      <th>4</th>\n",
       "      <td>day_precip</td>\n",
       "      <td>0.088876</td>\n",
       "    </tr>\n",
       "    <tr>\n",
       "      <th>2</th>\n",
       "      <td>tmin</td>\n",
       "      <td>0.075846</td>\n",
       "    </tr>\n",
       "    <tr>\n",
       "      <th>0</th>\n",
       "      <td>prcp</td>\n",
       "      <td>0.064539</td>\n",
       "    </tr>\n",
       "    <tr>\n",
       "      <th>3</th>\n",
       "      <td>rad</td>\n",
       "      <td>0.056607</td>\n",
       "    </tr>\n",
       "    <tr>\n",
       "      <th>7</th>\n",
       "      <td>year</td>\n",
       "      <td>0.045186</td>\n",
       "    </tr>\n",
       "    <tr>\n",
       "      <th>9</th>\n",
       "      <td>dow</td>\n",
       "      <td>0.038522</td>\n",
       "    </tr>\n",
       "    <tr>\n",
       "      <th>11</th>\n",
       "      <td>hol</td>\n",
       "      <td>0.032896</td>\n",
       "    </tr>\n",
       "    <tr>\n",
       "      <th>8</th>\n",
       "      <td>month</td>\n",
       "      <td>0.022978</td>\n",
       "    </tr>\n",
       "    <tr>\n",
       "      <th>6</th>\n",
       "      <td>day_wind</td>\n",
       "      <td>0.015708</td>\n",
       "    </tr>\n",
       "    <tr>\n",
       "      <th>10</th>\n",
       "      <td>dom</td>\n",
       "      <td>0.014581</td>\n",
       "    </tr>\n",
       "  </tbody>\n",
       "</table>\n",
       "</div>"
      ],
      "text/plain": [
       "            param       imp\n",
       "1            tmax  0.284766\n",
       "5   day_real_feel  0.157308\n",
       "12     prev_count  0.102187\n",
       "4      day_precip  0.088876\n",
       "2            tmin  0.075846\n",
       "0            prcp  0.064539\n",
       "3             rad  0.056607\n",
       "7            year  0.045186\n",
       "9             dow  0.038522\n",
       "11            hol  0.032896\n",
       "8           month  0.022978\n",
       "6        day_wind  0.015708\n",
       "10            dom  0.014581"
      ]
     },
     "execution_count": 39,
     "metadata": {},
     "output_type": "execute_result"
    }
   ],
   "source": [
    "# get feature importances\n",
    "pd.DataFrame({'param': X.columns, 'imp':model.feature_importances_}).sort_values(by='imp', ascending=False)"
   ]
  },
  {
   "cell_type": "code",
   "execution_count": 40,
   "metadata": {},
   "outputs": [
    {
     "data": {
      "text/plain": [
       "<matplotlib.collections.PathCollection at 0x7fb288484fd0>"
      ]
     },
     "execution_count": 40,
     "metadata": {},
     "output_type": "execute_result"
    },
    {
     "data": {
      "image/png": "[encoded data removed]",
      "text/plain": [
       "<Figure size 640x480 with 1 Axes>"
      ]
     },
     "metadata": {},
     "output_type": "display_data"
    }
   ],
   "source": [
    "# view scatterplot with actual on x, predictions on y\n",
    "# check for clustering around x=y\n",
    "plt.scatter(x=val_df['counts'], y=val_df['y_pred'])"
   ]
  },
  {
   "cell_type": "markdown",
   "metadata": {},
   "source": [
    "## Review test set (witheld months)"
   ]
  },
  {
   "cell_type": "code",
   "execution_count": 46,
   "metadata": {},
   "outputs": [],
   "source": [
    "# build test df with predictions\n",
    "test_df = df[withhold_range].copy()\n",
    "test_df['y_pred'] = model.predict(test_df[X.columns])\n",
    "test_df = test_df[['date','counts', 'y_pred']+list(X_train.columns)]\n",
    "test_df_jan = test_df[test_df['date'].dt.month == 1]\n",
    "test_df_aug = test_df[test_df['date'].dt.month == 8]"
   ]
  },
  {
   "cell_type": "code",
   "execution_count": 50,
   "metadata": {},
   "outputs": [
    {
     "data": {
      "image/png": "[encoded data removed]",
      "text/plain": [
       "<Figure size 500x300 with 1 Axes>"
      ]
     },
     "metadata": {},
     "output_type": "display_data"
    }
   ],
   "source": [
    "# plot january\n",
    "x = test_df_jan['date']\n",
    "y1 = test_df_jan['counts']\n",
    "y2 = test_df_jan['y_pred']\n",
    "\n",
    "plt.figure(figsize=(5, 3))\n",
    "plt.plot(x, y1, color='blue')\n",
    "plt.plot(x, y2, color='green')\n",
    "plt.ylim(0,25000)\n",
    "plt.title('Jan')\n",
    "plt.show()"
   ]
  },
  {
   "cell_type": "code",
   "execution_count": 51,
   "metadata": {},
   "outputs": [
    {
     "data": {
      "image/png": "[encoded data removed]",
      "text/plain": [
       "<Figure size 500x300 with 1 Axes>"
      ]
     },
     "metadata": {},
     "output_type": "display_data"
    }
   ],
   "source": [
    "# plot august\n",
    "x = test_df_aug['date']\n",
    "y1 = test_df_aug['counts']\n",
    "y2 = test_df_aug['y_pred']\n",
    "\n",
    "plt.figure(figsize=(5, 3))\n",
    "plt.plot(x, y1, color='blue')\n",
    "plt.plot(x, y2, color='orange')\n",
    "plt.ylim(0,35000)\n",
    "plt.title('Aug')\n",
    "plt.show()"
   ]
  },
  {
   "cell_type": "markdown",
   "metadata": {},
   "source": [
    "## save xgb"
   ]
  },
  {
   "cell_type": "code",
   "execution_count": 54,
   "metadata": {},
   "outputs": [],
   "source": [
    "with open('model/xgb_v1.pkl', 'wb') as f: # save model\n",
    "    pickle.dump(model, f)\n",
    "\n",
    "# also save the dates witheld for testing and feature input columns\n",
    "with open('data/input_features.pkl', 'wb') as f:\n",
    "    pickle.dump(X_train.columns, f)\n",
    "\n",
    "# save test set for visualation\n",
    "val_df.to_pickle('bike-prediction-app/data/val_df.pkl')\n",
    "test_df = test_df.rename(columns={'counts':'actual', 'y_pred':'predicted'})\n",
    "test_df.to_pickle('bike-prediction-app/data/test_df.pkl')"
   ]
  },
  {
   "cell_type": "code",
   "execution_count": 73,
   "metadata": {},
   "outputs": [],
   "source": [
    "# get all performance metrics for display in app\n",
    "\n",
    "y_train_pred = model.predict(X_train)\n",
    "train_df = pd.DataFrame({'counts':y_train, 'y_pred':y_train_pred})\n",
    "train_df['error'] = abs(train_df['y_pred']-train_df['counts'])\n",
    "train_df['mape'] = train_df['error'] / train_df['counts'] * 100\n",
    "train_mae = train_df['error'].mean()\n",
    "train_mape = train_df['mape'].mean()\n",
    "val_mae = val_df['error'].mean()\n",
    "val_mape = val_df['perc_error'].mean() * 100\n",
    "test_df['error'] = abs(test_df['predicted']-test_df['actual'])\n",
    "test_mae = test_df['error'].mean()\n",
    "test_df['mape'] = abs(test_df['predicted']-test_df['actual']) / test_df['actual'] * 100\n",
    "test_mape = test_df['mape'].mean()\n",
    "\n",
    "perf_dict = {\n",
    "    'training MAE': np.round(train_mae,1),\n",
    "    'validation MAE': np.round(val_mae,1),\n",
    "    'test MAE': np.round(test_mae, 1),\n",
    "    'training MAPE': np.round(train_mape, 1),\n",
    "    'validation MAPE': np.round(val_mape, 1),\n",
    "    'test MAPE': np.round(test_mape, 1)\n",
    "}\n"
   ]
  },
  {
   "cell_type": "code",
   "execution_count": 75,
   "metadata": {},
   "outputs": [],
   "source": [
    "# save\n",
    "with open('bike-prediction-app/data/performance.pkl', 'wb') as f:\n",
    "    pickle.dump(perf_dict, f)"
   ]
  }
 ],
 "metadata": {
  "kernelspec": {
   "display_name": "base",
   "language": "python",
   "name": "python3"
  },
  "language_info": {
   "codemirror_mode": {
    "name": "ipython",
    "version": 3
   },
   "file_extension": ".py",
   "mimetype": "text/x-python",
   "name": "python",
   "nbconvert_exporter": "python",
   "pygments_lexer": "ipython3",
   "version": "3.9.17"
  },
  "orig_nbformat": 4
 },
 "nbformat": 4,
 "nbformat_minor": 2
}
