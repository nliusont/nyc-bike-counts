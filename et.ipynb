{
 "cells": [
  {
   "cell_type": "markdown",
   "metadata": {},
   "source": [
    "This notebook takes in bike counts and bike counter csvs and performs the following:\n",
    "* trims the bike counters to the predominant counters and removes duplicative counters\n",
    "* links together the two Kent Ave counters\n",
    "* slices off anomalous data that occurs after counter installation\n",
    "* groups by by hour and week for visualization\n",
    "* creates display data for streamlit app"
   ]
  },
  {
   "cell_type": "code",
   "execution_count": 5,
   "metadata": {},
   "outputs": [],
   "source": [
    "# data\n",
    "import pandas as pd\n",
    "import numpy as np\n",
    "import matplotlib.pyplot as plt\n",
    "\n",
    "# geo\n",
    "import geopandas as gpd\n",
    "from shapely.geometry import Point\n",
    "\n",
    "# utils\n",
    "import pickle\n",
    "from datetime import datetime\n",
    "\n",
    "import_new_data=True"
   ]
  },
  {
   "cell_type": "markdown",
   "metadata": {},
   "source": [
    "## clean data"
   ]
  },
  {
   "cell_type": "code",
   "execution_count": 6,
   "metadata": {},
   "outputs": [
    {
     "name": "stderr",
     "output_type": "stream",
     "text": [
      "/var/folders/4p/cnm8c74x2cscn3bny0pr_bvr0000gn/T/ipykernel_35787/1960095748.py:2: DtypeWarning: Columns (3) have mixed types. Specify dtype option on import or set low_memory=False.\n",
      "  import_df = pd.read_csv('data/Bicycle_Counts.csv')\n"
     ]
    }
   ],
   "source": [
    "if import_new_data==True:\n",
    "    import_df = pd.read_csv('data/Bicycle_Counts.csv')\n",
    "    import_df['date'] = pd.to_datetime(import_df['date'])\n",
    "    import_df = import_df.set_index('date')\n",
    "    \n",
    "    date_retrieved = datetime.now() # record datetime of import\n",
    "    with open('data/retrieval_date.pkl', 'wb') as f:\n",
    "        pickle.dump(date_retrieved, f)\n",
    "\n",
    "#status col:\n",
    "#0 = raw\n",
    "#1 = excluded \n",
    "#2 = deleted\n",
    "#4 = modified\n",
    "#8 = validated\n",
    "#16 = certified"
   ]
  },
  {
   "cell_type": "code",
   "execution_count": 7,
   "metadata": {},
   "outputs": [
    {
     "data": {
      "text/html": [
       "<div>\n",
       "<style scoped>\n",
       "    .dataframe tbody tr th:only-of-type {\n",
       "        vertical-align: middle;\n",
       "    }\n",
       "\n",
       "    .dataframe tbody tr th {\n",
       "        vertical-align: top;\n",
       "    }\n",
       "\n",
       "    .dataframe thead th {\n",
       "        text-align: right;\n",
       "    }\n",
       "</style>\n",
       "<table border=\"1\" class=\"dataframe\">\n",
       "  <thead>\n",
       "    <tr style=\"text-align: right;\">\n",
       "      <th></th>\n",
       "      <th>id</th>\n",
       "      <th>counts</th>\n",
       "    </tr>\n",
       "    <tr>\n",
       "      <th>date</th>\n",
       "      <th></th>\n",
       "      <th></th>\n",
       "    </tr>\n",
       "  </thead>\n",
       "  <tbody>\n",
       "    <tr>\n",
       "      <th>2018-12-24 03:30:00</th>\n",
       "      <td>100009424</td>\n",
       "      <td>0</td>\n",
       "    </tr>\n",
       "    <tr>\n",
       "      <th>2018-12-24 03:45:00</th>\n",
       "      <td>100009424</td>\n",
       "      <td>0</td>\n",
       "    </tr>\n",
       "    <tr>\n",
       "      <th>2018-12-24 04:00:00</th>\n",
       "      <td>100009424</td>\n",
       "      <td>0</td>\n",
       "    </tr>\n",
       "    <tr>\n",
       "      <th>2018-12-24 04:15:00</th>\n",
       "      <td>100009424</td>\n",
       "      <td>0</td>\n",
       "    </tr>\n",
       "    <tr>\n",
       "      <th>2018-12-24 04:30:00</th>\n",
       "      <td>100009424</td>\n",
       "      <td>0</td>\n",
       "    </tr>\n",
       "    <tr>\n",
       "      <th>...</th>\n",
       "      <td>...</td>\n",
       "      <td>...</td>\n",
       "    </tr>\n",
       "    <tr>\n",
       "      <th>2023-09-12 22:45:00</th>\n",
       "      <td>300029648</td>\n",
       "      <td>18</td>\n",
       "    </tr>\n",
       "    <tr>\n",
       "      <th>2023-09-12 23:00:00</th>\n",
       "      <td>300029648</td>\n",
       "      <td>18</td>\n",
       "    </tr>\n",
       "    <tr>\n",
       "      <th>2023-09-12 23:15:00</th>\n",
       "      <td>300029648</td>\n",
       "      <td>15</td>\n",
       "    </tr>\n",
       "    <tr>\n",
       "      <th>2023-09-12 23:30:00</th>\n",
       "      <td>300029648</td>\n",
       "      <td>13</td>\n",
       "    </tr>\n",
       "    <tr>\n",
       "      <th>2023-09-12 23:45:00</th>\n",
       "      <td>300029648</td>\n",
       "      <td>15</td>\n",
       "    </tr>\n",
       "  </tbody>\n",
       "</table>\n",
       "<p>4973693 rows × 2 columns</p>\n",
       "</div>"
      ],
      "text/plain": [
       "                            id  counts\n",
       "date                                  \n",
       "2018-12-24 03:30:00  100009424       0\n",
       "2018-12-24 03:45:00  100009424       0\n",
       "2018-12-24 04:00:00  100009424       0\n",
       "2018-12-24 04:15:00  100009424       0\n",
       "2018-12-24 04:30:00  100009424       0\n",
       "...                        ...     ...\n",
       "2023-09-12 22:45:00  300029648      18\n",
       "2023-09-12 23:00:00  300029648      18\n",
       "2023-09-12 23:15:00  300029648      15\n",
       "2023-09-12 23:30:00  300029648      13\n",
       "2023-09-12 23:45:00  300029648      15\n",
       "\n",
       "[4973693 rows x 2 columns]"
      ]
     },
     "execution_count": 7,
     "metadata": {},
     "output_type": "execute_result"
    }
   ],
   "source": [
    "# copy after imported to save having to import again\n",
    "data = import_df[['id','counts']].copy()\n",
    "\n",
    "# the raw file has comma thousands separators pandas is unable to interpret as ints (in this instance)\n",
    "# remove commas and cast as int\n",
    "data.loc[data['counts'].str.contains(',')==True, 'counts'] = data.loc[data['counts'].str.contains(',')==True, 'counts'].str.replace(',','')\n",
    "data['counts'] = pd.to_numeric(data['counts']).astype(int)\n",
    "data"
   ]
  },
  {
   "cell_type": "code",
   "execution_count": 9,
   "metadata": {},
   "outputs": [],
   "source": [
    "# read in counters\n",
    "counters = pd.read_csv('data/Bicycle_Counters.csv')\n",
    "counters = counters[['id', 'name', 'latitude', 'longitude']]\n",
    "\n",
    "# merge counter names\n",
    "data = data.reset_index().merge(counters[['id', 'name']], on='id').set_index('date')"
   ]
  },
  {
   "cell_type": "code",
   "execution_count": 10,
   "metadata": {},
   "outputs": [],
   "source": [
    "# select the counters to ultimately analyze\n",
    "\n",
    "# drop counters that are tests\n",
    "test_counters = [300020692, 100048744, 100005020, 100055175]\n",
    "# Drop pedestrian counters\n",
    "ped_counters = [300029648, 100009426]\n",
    "# Drop other counters\n",
    "# bk bridge comprehensive is all we need for the bridge\n",
    "other_counters = [300020241, 100010022, 300028963, 100051865, 100009429, 100039064, 100057318, 100047029]\n",
    "\n",
    "counters_to_remove = test_counters + ped_counters + other_counters\n",
    "\n",
    "data = data[~data['id'].isin(counters_to_remove)]\n",
    "counters = counters[~counters['id'].isin(counters_to_remove)]\n",
    "\n",
    "\n",
    "#rename n.8th kent because we replace it with kent ave comprehensive below\n",
    "counters.loc[counters['name']=='Kent Ave btw North 8th St and North 9th St', ['name', 'id',]] = ('Kent Ave Comprehensive', 999999999)\n",
    "counters = counters[counters['name']!='Kent Ave btw South 6th St. and Broadway']"
   ]
  },
  {
   "cell_type": "code",
   "execution_count": 11,
   "metadata": {},
   "outputs": [
    {
     "data": {
      "text/html": [
       "<div>\n",
       "<style scoped>\n",
       "    .dataframe tbody tr th:only-of-type {\n",
       "        vertical-align: middle;\n",
       "    }\n",
       "\n",
       "    .dataframe tbody tr th {\n",
       "        vertical-align: top;\n",
       "    }\n",
       "\n",
       "    .dataframe thead th {\n",
       "        text-align: right;\n",
       "    }\n",
       "</style>\n",
       "<table border=\"1\" class=\"dataframe\">\n",
       "  <thead>\n",
       "    <tr style=\"text-align: right;\">\n",
       "      <th></th>\n",
       "      <th>first</th>\n",
       "      <th>last</th>\n",
       "      <th>runtime</th>\n",
       "    </tr>\n",
       "    <tr>\n",
       "      <th>name</th>\n",
       "      <th></th>\n",
       "      <th></th>\n",
       "      <th></th>\n",
       "    </tr>\n",
       "  </thead>\n",
       "  <tbody>\n",
       "    <tr>\n",
       "      <th>Willis Ave Bikes</th>\n",
       "      <td>2022-09-02 11:15:00</td>\n",
       "      <td>2023-09-12 23:45:00</td>\n",
       "      <td>375</td>\n",
       "    </tr>\n",
       "    <tr>\n",
       "      <th>Fountain Ave</th>\n",
       "      <td>2022-08-23 10:30:00</td>\n",
       "      <td>2023-09-12 23:45:00</td>\n",
       "      <td>385</td>\n",
       "    </tr>\n",
       "    <tr>\n",
       "      <th>111th St at 50th Ave</th>\n",
       "      <td>2022-05-09 15:00:00</td>\n",
       "      <td>2023-09-11 23:45:00</td>\n",
       "      <td>490</td>\n",
       "    </tr>\n",
       "    <tr>\n",
       "      <th>Kent Ave btw South 6th St. and Broadway</th>\n",
       "      <td>2014-08-14 00:00:00</td>\n",
       "      <td>2016-11-21 23:45:00</td>\n",
       "      <td>830</td>\n",
       "    </tr>\n",
       "    <tr>\n",
       "      <th>Amsterdam Ave at 86th St.</th>\n",
       "      <td>2019-10-24 00:00:00</td>\n",
       "      <td>2023-09-10 23:45:00</td>\n",
       "      <td>1417</td>\n",
       "    </tr>\n",
       "    <tr>\n",
       "      <th>Columbus Ave at 86th St.</th>\n",
       "      <td>2019-10-24 00:00:00</td>\n",
       "      <td>2023-09-11 23:45:00</td>\n",
       "      <td>1418</td>\n",
       "    </tr>\n",
       "    <tr>\n",
       "      <th>2nd Avenue - 26th St S</th>\n",
       "      <td>2015-05-22 09:15:00</td>\n",
       "      <td>2019-06-11 23:45:00</td>\n",
       "      <td>1481</td>\n",
       "    </tr>\n",
       "    <tr>\n",
       "      <th>8th Ave at 50th St.</th>\n",
       "      <td>2018-06-14 00:00:00</td>\n",
       "      <td>2023-09-11 23:45:00</td>\n",
       "      <td>1915</td>\n",
       "    </tr>\n",
       "    <tr>\n",
       "      <th>Pulaski Bridge</th>\n",
       "      <td>2017-06-24 00:00:00</td>\n",
       "      <td>2023-09-12 23:45:00</td>\n",
       "      <td>2271</td>\n",
       "    </tr>\n",
       "    <tr>\n",
       "      <th>1st Avenue - 26th St N - Interference testing</th>\n",
       "      <td>2013-09-11 22:00:00</td>\n",
       "      <td>2019-12-05 16:45:00</td>\n",
       "      <td>2275</td>\n",
       "    </tr>\n",
       "    <tr>\n",
       "      <th>Kent Ave btw North 8th St and North 9th St</th>\n",
       "      <td>2016-11-22 17:00:00</td>\n",
       "      <td>2023-09-12 23:45:00</td>\n",
       "      <td>2485</td>\n",
       "    </tr>\n",
       "    <tr>\n",
       "      <th>Prospect Park West</th>\n",
       "      <td>2016-11-07 16:30:00</td>\n",
       "      <td>2023-09-11 23:45:00</td>\n",
       "      <td>2499</td>\n",
       "    </tr>\n",
       "    <tr>\n",
       "      <th>Staten Island Ferry</th>\n",
       "      <td>2016-03-31 04:00:00</td>\n",
       "      <td>2023-09-12 23:45:00</td>\n",
       "      <td>2721</td>\n",
       "    </tr>\n",
       "    <tr>\n",
       "      <th>Comprehensive Brooklyn Bridge Counter</th>\n",
       "      <td>2013-12-19 10:00:00</td>\n",
       "      <td>2023-09-05 09:45:00</td>\n",
       "      <td>3546</td>\n",
       "    </tr>\n",
       "    <tr>\n",
       "      <th>Ed Koch Queensboro Bridge Shared Path</th>\n",
       "      <td>2013-12-05 11:15:00</td>\n",
       "      <td>2023-09-08 23:45:00</td>\n",
       "      <td>3564</td>\n",
       "    </tr>\n",
       "    <tr>\n",
       "      <th>Williamsburg Bridge Bike Path</th>\n",
       "      <td>2013-12-03 14:45:00</td>\n",
       "      <td>2023-09-12 23:45:00</td>\n",
       "      <td>3570</td>\n",
       "    </tr>\n",
       "    <tr>\n",
       "      <th>Manhattan Bridge Bike Comprehensive</th>\n",
       "      <td>2012-08-31 00:00:00</td>\n",
       "      <td>2023-09-11 23:45:00</td>\n",
       "      <td>4028</td>\n",
       "    </tr>\n",
       "  </tbody>\n",
       "</table>\n",
       "</div>"
      ],
      "text/plain": [
       "                                                            first  \\\n",
       "name                                                                \n",
       "Willis Ave Bikes                              2022-09-02 11:15:00   \n",
       "Fountain Ave                                  2022-08-23 10:30:00   \n",
       "111th St at 50th Ave                          2022-05-09 15:00:00   \n",
       "Kent Ave btw South 6th St. and Broadway       2014-08-14 00:00:00   \n",
       "Amsterdam Ave at 86th St.                     2019-10-24 00:00:00   \n",
       "Columbus Ave at 86th St.                      2019-10-24 00:00:00   \n",
       "2nd Avenue - 26th St S                        2015-05-22 09:15:00   \n",
       "8th Ave at 50th St.                           2018-06-14 00:00:00   \n",
       "Pulaski Bridge                                2017-06-24 00:00:00   \n",
       "1st Avenue - 26th St N - Interference testing 2013-09-11 22:00:00   \n",
       "Kent Ave btw North 8th St and North 9th St    2016-11-22 17:00:00   \n",
       "Prospect Park West                            2016-11-07 16:30:00   \n",
       "Staten Island Ferry                           2016-03-31 04:00:00   \n",
       "Comprehensive Brooklyn Bridge Counter         2013-12-19 10:00:00   \n",
       "Ed Koch Queensboro Bridge Shared Path         2013-12-05 11:15:00   \n",
       "Williamsburg Bridge Bike Path                 2013-12-03 14:45:00   \n",
       "Manhattan Bridge Bike Comprehensive           2012-08-31 00:00:00   \n",
       "\n",
       "                                                             last  runtime  \n",
       "name                                                                        \n",
       "Willis Ave Bikes                              2023-09-12 23:45:00      375  \n",
       "Fountain Ave                                  2023-09-12 23:45:00      385  \n",
       "111th St at 50th Ave                          2023-09-11 23:45:00      490  \n",
       "Kent Ave btw South 6th St. and Broadway       2016-11-21 23:45:00      830  \n",
       "Amsterdam Ave at 86th St.                     2023-09-10 23:45:00     1417  \n",
       "Columbus Ave at 86th St.                      2023-09-11 23:45:00     1418  \n",
       "2nd Avenue - 26th St S                        2019-06-11 23:45:00     1481  \n",
       "8th Ave at 50th St.                           2023-09-11 23:45:00     1915  \n",
       "Pulaski Bridge                                2023-09-12 23:45:00     2271  \n",
       "1st Avenue - 26th St N - Interference testing 2019-12-05 16:45:00     2275  \n",
       "Kent Ave btw North 8th St and North 9th St    2023-09-12 23:45:00     2485  \n",
       "Prospect Park West                            2023-09-11 23:45:00     2499  \n",
       "Staten Island Ferry                           2023-09-12 23:45:00     2721  \n",
       "Comprehensive Brooklyn Bridge Counter         2023-09-05 09:45:00     3546  \n",
       "Ed Koch Queensboro Bridge Shared Path         2023-09-08 23:45:00     3564  \n",
       "Williamsburg Bridge Bike Path                 2023-09-12 23:45:00     3570  \n",
       "Manhattan Bridge Bike Comprehensive           2023-09-11 23:45:00     4028  "
      ]
     },
     "execution_count": 11,
     "metadata": {},
     "output_type": "execute_result"
    }
   ],
   "source": [
    "# check overlap of counters\n",
    "# get the first and last date of each counter\n",
    "first_dates = data.reset_index().groupby('name')['date'].min()\n",
    "last_dates = data.reset_index().groupby('name')['date'].max()\n",
    "\n",
    "counter_dates = pd.DataFrame({'first': first_dates, 'last':last_dates}).sort_values(by='last')\n",
    "counter_dates['runtime'] = (counter_dates['last'] - counter_dates['first']).dt.days\n",
    "counter_dates.sort_values(by='runtime')"
   ]
  },
  {
   "cell_type": "code",
   "execution_count": 12,
   "metadata": {},
   "outputs": [],
   "source": [
    "# the two kent ave counters about 10 blocks from one another and they ended/started one day apart, let's combine them\n",
    "data.loc[data['name']=='Kent Ave btw South 6th St. and Broadway', ['name', 'id']] = ('Kent Ave Comprehensive', 999999999)\n",
    "data.loc[data['name']=='Kent Ave btw North 8th St and North 9th St', ['name', 'id']] = ('Kent Ave Comprehensive', 999999999)"
   ]
  },
  {
   "cell_type": "markdown",
   "metadata": {},
   "source": [
    "### clean anomalous data"
   ]
  },
  {
   "cell_type": "code",
   "execution_count": 13,
   "metadata": {},
   "outputs": [],
   "source": [
    "# several counters have odd spikes, remove them \n",
    "# 8th ave and 50th st. reads zero for the first year and then spikes up to 22k in a single day throughout July\n",
    "# could not find events that occurred in that July to cause a spike\n",
    "# deleting everything before 7/24/2019\n",
    "eighth_criteria = (data['id']==100057316) & (data.index < '2019-07-24')\n",
    "data = data[~eighth_criteria].copy()\n",
    "\n",
    "amsterdam_criteria = (data['id']==100057319) & (data.index < '2020-12-15')\n",
    "data = data[~amsterdam_criteria].copy()\n",
    "\n",
    "first_ave_criteria = (data['id']==100010020) & ((data.index<'2016-08-10') | (data.index>'2019-06-11'))\n",
    "data = data[~first_ave_criteria].copy()\n",
    "\n",
    "second_ave_criteria = (data['id']==100009424) & (data.index > '2018-07-14')\n",
    "data = data[~second_ave_criteria].copy()\n",
    "\n",
    "data = data.sort_index()"
   ]
  },
  {
   "cell_type": "markdown",
   "metadata": {},
   "source": [
    "### replace with pretty names"
   ]
  },
  {
   "cell_type": "code",
   "execution_count": 19,
   "metadata": {},
   "outputs": [],
   "source": [
    "# pretty names for brevity and viewing\n",
    "pretty_names = {\n",
    "    '2nd Avenue - 26th St S': '26th St & 2nd Ave', \n",
    "    'Prospect Park West':'Prospect Pk W',\n",
    "    'Williamsburg Bridge Bike Path': 'Williamsburg Br',\n",
    "    'Ed Koch Queensboro Bridge Shared Path':'Queensboro Br', \n",
    "    'Staten Island Ferry':'Staten Isl Ferry St',\n",
    "    'Pulaski Bridge':'Pulaski Br', \n",
    "    '1st Avenue - 26th St N - Interference testing': '1st Ave & 26th St',\n",
    "    '8th Ave at 50th St.': '8th Ave & 50th St',\n",
    "    'Amsterdam Ave at 86th St.':'Amsterdam Ave & 86th St', \n",
    "    'Manhattan Bridge Bike Comprehensive':'Manhattan Br',\n",
    "    'Comprehensive Brooklyn Bridge Counter':'Brooklyn Br', \n",
    "    'Fountain Ave':'Fountain Ave',\n",
    "    'Columbus Ave at 86th St.':'Columbus Ave & 86th St',\n",
    "    'Kent Ave Comprehensive': 'Kent Ave', \n",
    "    '111th St at 50th Ave':'111th St & 50th Ave',\n",
    "    'Willis Ave Bikes':'Willis Ave'\n",
    "}\n",
    "\n",
    "counters['name'] = counters['name'].map(pretty_names)\n",
    "data['name'] = data['name'].map(pretty_names)"
   ]
  },
  {
   "cell_type": "code",
   "execution_count": 20,
   "metadata": {},
   "outputs": [],
   "source": [
    "# bike prediction app will use these counters\n",
    "# export a dict of their names and ids for display purposes\n",
    "coun = ['Manhattan Br', 'Brooklyn Br', 'Williamsburg Br', 'Kent Ave', 'Queensboro Br', 'Prospect Park W']\n",
    "counter_dict = {}\n",
    "for c in coun:\n",
    "    if c == 'Prospect Park W':\n",
    "        counter_dict[c] = 100009425\n",
    "    else:\n",
    "        counter_dict[c] = float(counters.loc[counters['name']==c, 'id'].values[0])"
   ]
  },
  {
   "cell_type": "code",
   "execution_count": 21,
   "metadata": {},
   "outputs": [],
   "source": [
    "# save\n",
    "counters.set_index('id').to_pickle('data/counters.pkl')\n",
    "\n",
    "with open('bike-prediction-app/data/counter_dict.pkl', 'wb') as f:\n",
    "    pickle.dump(counter_dict, f)"
   ]
  },
  {
   "cell_type": "markdown",
   "metadata": {},
   "source": [
    "# groupby hour"
   ]
  },
  {
   "cell_type": "code",
   "execution_count": 453,
   "metadata": {},
   "outputs": [],
   "source": [
    "# first aggregate up the 15 min counts to the hour level\n",
    "# group by week but preserve the year so we have all historical data\n",
    "historical_hr = data.reset_index()[['date', 'id', 'counts', 'name']]\\\n",
    "                    .groupby([pd.Grouper(key='date', freq='H'), 'id', 'name'])\\\n",
    "                    .sum()\\\n",
    "                    .reset_index()"
   ]
  },
  {
   "cell_type": "code",
   "execution_count": 455,
   "metadata": {},
   "outputs": [],
   "source": [
    "# get hour of day for display\n",
    "def get_time(hour):\n",
    "    hour_string = str(hour).zfill(2)\n",
    "    time_string = hour_string + ':00' + ':00'\n",
    "    return pd.to_datetime(time_string, format='%H:%M:%S', utc=True)"
   ]
  },
  {
   "cell_type": "code",
   "execution_count": 456,
   "metadata": {},
   "outputs": [],
   "source": [
    "#groupby hour and take mean\n",
    "hr = historical_hr.groupby([historical_hr['date'].dt.hour, 'id', 'name']).mean()\n",
    "hr['display_time'] = hr.index.get_level_values('date').to_series().apply(lambda x: get_time(x)).values"
   ]
  },
  {
   "cell_type": "code",
   "execution_count": 457,
   "metadata": {},
   "outputs": [],
   "source": [
    "# save\n",
    "hr.to_pickle('data/by_hour.pkl')"
   ]
  },
  {
   "cell_type": "markdown",
   "metadata": {},
   "source": [
    "## groupby week"
   ]
  },
  {
   "cell_type": "code",
   "execution_count": 458,
   "metadata": {},
   "outputs": [],
   "source": [
    "# group by week but preserve the year so we have all historical data\n",
    "historical_wk = data.reset_index()[['date', 'id', 'counts', 'name']]\\\n",
    "                    .groupby([pd.Grouper(key='date', freq='W-MON'), 'id', 'name'])\\\n",
    "                    .sum()"
   ]
  },
  {
   "cell_type": "code",
   "execution_count": 459,
   "metadata": {},
   "outputs": [],
   "source": [
    "# get month of year given week number\n",
    "def get_month(week_number, year):\n",
    "    first_day = datetime.fromisocalendar(year, week_number, 1)\n",
    "    return first_day.strftime('%m-%d')"
   ]
  },
  {
   "cell_type": "code",
   "execution_count": 460,
   "metadata": {},
   "outputs": [
    {
     "name": "stderr",
     "output_type": "stream",
     "text": [
      "/var/folders/4p/cnm8c74x2cscn3bny0pr_bvr0000gn/T/ipykernel_82121/809708603.py:2: FutureWarning: Series.dt.weekofyear and Series.dt.week have been deprecated. Please use Series.dt.isocalendar().week instead.\n",
      "  wk = historical_wk_noidx.groupby([historical_wk_noidx['date'].dt.week,'id', 'name']).mean()\n"
     ]
    }
   ],
   "source": [
    "historical_wk_noidx = historical_wk.reset_index() # remove index for groupby\n",
    "wk = historical_wk_noidx.groupby([historical_wk_noidx['date'].dt.week,'id', 'name']).mean() # group by week\n",
    "wk = wk.loc[wk.index.get_level_values('date')!=53] # get rid of 53rd week\n",
    "# create display dates for charts\n",
    "wk['display_date'] = wk.index.get_level_values('date').to_series().apply(lambda x: get_month(x,2021)).values "
   ]
  },
  {
   "cell_type": "code",
   "execution_count": 461,
   "metadata": {},
   "outputs": [],
   "source": [
    "# save\n",
    "wk.to_pickle('data/by_week.pkl')"
   ]
  },
  {
   "cell_type": "markdown",
   "metadata": {},
   "source": [
    "## make app data"
   ]
  },
  {
   "cell_type": "code",
   "execution_count": 462,
   "metadata": {},
   "outputs": [],
   "source": [
    "# to save time on the color mapping, map colors ahead of time\n",
    "\n",
    "# colors\n",
    "cat_20 = ['#1f77b4',\n",
    "    '#aec7e8',\n",
    "    '#ff7f0e',\n",
    "    '#ffbb78',\n",
    "    '#2ca02c',\n",
    "    '#98df8a',\n",
    "    '#d62728',\n",
    "    '#ff9896',\n",
    "    '#9467bd',\n",
    "    '#c5b0d5',\n",
    "    '#8c564b',\n",
    "    '#c49c94',\n",
    "    '#e377c2',\n",
    "    '#f7b6d2',\n",
    "    '#7f7f7f',\n",
    "    '#c7c7c7',\n",
    "    '#bcbd22',\n",
    "    '#dbdb8d',\n",
    "    '#17becf',\n",
    "    '#9edae5'\n",
    "    ]\n",
    "\n",
    "num_counters = len(counters)\n",
    "counter_ids = counters['id'].unique()\n",
    "color_indices = np.linspace(0, len(cat_20)-1, num_counters, dtype=int)\n",
    "colors = [cat_20[x] for x in color_indices]\n",
    "color_dict = dict(zip(counter_ids, colors))"
   ]
  },
  {
   "cell_type": "code",
   "execution_count": 463,
   "metadata": {},
   "outputs": [],
   "source": [
    "# map colors and save\n",
    "counter_display = counters.copy()\n",
    "counter_display['color'] = counter_display['id'].map(color_dict)\n",
    "counter_display.set_index('id').to_pickle('bike-counts-app/data/streamlit_counters.pkl')\n",
    "\n",
    "hr_display = hr.copy()\n",
    "hr_display['color'] = hr_display.index.get_level_values('id').map(color_dict)\n",
    "hr_display.to_pickle('bike-counts-app/data/streamlit_by_hr.pkl')\n",
    "\n",
    "wk_display = wk.copy()\n",
    "wk_display['color'] = wk_display.index.get_level_values('id').map(color_dict)\n",
    "wk_display.to_pickle('bike-counts-app/data/streamlit_by_wk.pkl')\n",
    "\n",
    "historical_wk_display = historical_wk.copy()\n",
    "historical_wk_display['id'] = historical_wk_display.index.get_level_values('id').astype(int)\n",
    "historical_wk_display['color'] = historical_wk_display['id'].map(color_dict)\n",
    "historical_wk_display = historical_wk_display.drop(columns=['id'])\n",
    "cutoff = '2015-01-01'\n",
    "historical_wk_display = historical_wk_display.loc[historical_wk_display.index.get_level_values('date') >= cutoff ]\n",
    "historical_wk_display.to_pickle('bike-counts-app/data/streamlit_hist_by_wk.pkl')\n",
    "\n",
    "data.to_pickle('bike-counts-app/data/all_data.pkl')"
   ]
  },
  {
   "cell_type": "code",
   "execution_count": null,
   "metadata": {},
   "outputs": [],
   "source": []
  }
 ],
 "metadata": {
  "kernelspec": {
   "display_name": "base",
   "language": "python",
   "name": "python3"
  },
  "language_info": {
   "codemirror_mode": {
    "name": "ipython",
    "version": 3
   },
   "file_extension": ".py",
   "mimetype": "text/x-python",
   "name": "python",
   "nbconvert_exporter": "python",
   "pygments_lexer": "ipython3",
   "version": "3.9.17"
  },
  "orig_nbformat": 4
 },
 "nbformat": 4,
 "nbformat_minor": 2
}
