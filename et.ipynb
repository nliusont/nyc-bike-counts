{
 "cells": [
  {
   "cell_type": "code",
   "execution_count": 173,
   "metadata": {},
   "outputs": [],
   "source": [
    "import pandas as pd\n",
    "import numpy as np\n",
    "import matplotlib.pyplot as plt\n",
    "import altair as alt\n",
    "import geopandas as gpd\n",
    "from shapely.geometry import Point\n",
    "import pickle\n",
    "from datetime import datetime\n",
    "\n",
    "import_new_data=False"
   ]
  },
  {
   "cell_type": "markdown",
   "metadata": {},
   "source": [
    "## clean counters up"
   ]
  },
  {
   "cell_type": "code",
   "execution_count": 310,
   "metadata": {},
   "outputs": [
    {
     "data": {
      "text/plain": [
       "'\\nstatus col:\\n\"0 = raw\\n1 = excluded \\n2 = deleted\\n4 = modified\\n8 = validated\\n16 = certified\"'"
      ]
     },
     "execution_count": 310,
     "metadata": {},
     "output_type": "execute_result"
    }
   ],
   "source": [
    "if import_new_data==True:\n",
    "    import_df = pd.read_csv('data/Bicycle_Counts.csv')\n",
    "    import_df['date'] = pd.to_datetime(import_df['date'])\n",
    "    import_df = import_df.set_index('date')\n",
    "    \n",
    "    date_retrieved = datetime.now()\n",
    "    with open('data/retrieval_date.pkl', 'wb') as f:\n",
    "        pickle.dump(date_retrieved, f)\n",
    "\n",
    "\n",
    "'''\n",
    "status col:\n",
    "\"0 = raw\n",
    "1 = excluded \n",
    "2 = deleted\n",
    "4 = modified\n",
    "8 = validated\n",
    "16 = certified\"'''"
   ]
  },
  {
   "cell_type": "code",
   "execution_count": 311,
   "metadata": {},
   "outputs": [],
   "source": [
    "# copy after imported to save having to import again\n",
    "data = import_df[['id','counts']].copy()"
   ]
  },
  {
   "cell_type": "code",
   "execution_count": 312,
   "metadata": {},
   "outputs": [],
   "source": [
    "counters = pd.read_csv('data/Bicycle_Counters.csv')\n",
    "counters = counters[['id', 'name', 'latitude', 'longitude']]"
   ]
  },
  {
   "cell_type": "code",
   "execution_count": 313,
   "metadata": {},
   "outputs": [],
   "source": [
    "# merge counter names\n",
    "data = data.reset_index().merge(counters[['id', 'name']], on='id').set_index('date')"
   ]
  },
  {
   "cell_type": "code",
   "execution_count": 314,
   "metadata": {},
   "outputs": [],
   "source": [
    "# drop counters that are tests\n",
    "test_counters = [300020692, 100048744, 100005020, 100055175]\n",
    "# Drop pedestrian counters\n",
    "ped_counters = [300029648, 100009426]\n",
    "# Drop other counters\n",
    "# bk bridge comprehensive is all we need for the bridge\n",
    "other_counters = [300020241, 100010022, 300028963, 100051865, 100009429, 100039064, 100057318, 100047029]\n",
    "\n",
    "\n",
    "counters_to_remove = test_counters + ped_counters + other_counters\n",
    "\n",
    "data = data[~data['id'].isin(counters_to_remove)]\n",
    "counters = counters[~counters['id'].isin(counters_to_remove)]\n",
    "\n",
    "\n",
    "#rename n.8th kent because we replace it with kent ave comprehensive below\n",
    "counters.loc[counters['name']=='Kent Ave btw North 8th St and North 9th St', ['name', 'id',]] = ('Kent Ave Comprehensive', 999999999)\n",
    "counters = counters[counters['name']!='Kent Ave btw South 6th St. and Broadway']"
   ]
  },
  {
   "cell_type": "code",
   "execution_count": 315,
   "metadata": {},
   "outputs": [
    {
     "data": {
      "text/html": [
       "<div>\n",
       "<style scoped>\n",
       "    .dataframe tbody tr th:only-of-type {\n",
       "        vertical-align: middle;\n",
       "    }\n",
       "\n",
       "    .dataframe tbody tr th {\n",
       "        vertical-align: top;\n",
       "    }\n",
       "\n",
       "    .dataframe thead th {\n",
       "        text-align: right;\n",
       "    }\n",
       "</style>\n",
       "<table border=\"1\" class=\"dataframe\">\n",
       "  <thead>\n",
       "    <tr style=\"text-align: right;\">\n",
       "      <th></th>\n",
       "      <th>first</th>\n",
       "      <th>last</th>\n",
       "      <th>runtime</th>\n",
       "    </tr>\n",
       "    <tr>\n",
       "      <th>name</th>\n",
       "      <th></th>\n",
       "      <th></th>\n",
       "      <th></th>\n",
       "    </tr>\n",
       "  </thead>\n",
       "  <tbody>\n",
       "    <tr>\n",
       "      <th>Willis Ave Bikes</th>\n",
       "      <td>2022-09-02 11:15:00</td>\n",
       "      <td>2023-08-29 23:45:00</td>\n",
       "      <td>361</td>\n",
       "    </tr>\n",
       "    <tr>\n",
       "      <th>Fountain Ave</th>\n",
       "      <td>2022-08-23 10:30:00</td>\n",
       "      <td>2023-08-29 23:45:00</td>\n",
       "      <td>371</td>\n",
       "    </tr>\n",
       "    <tr>\n",
       "      <th>111th St at 50th Ave</th>\n",
       "      <td>2022-05-09 15:00:00</td>\n",
       "      <td>2023-08-27 23:45:00</td>\n",
       "      <td>475</td>\n",
       "    </tr>\n",
       "    <tr>\n",
       "      <th>Kent Ave btw South 6th St. and Broadway</th>\n",
       "      <td>2014-08-14 00:00:00</td>\n",
       "      <td>2016-11-21 23:45:00</td>\n",
       "      <td>830</td>\n",
       "    </tr>\n",
       "    <tr>\n",
       "      <th>Columbus Ave at 86th St.</th>\n",
       "      <td>2019-10-24 00:00:00</td>\n",
       "      <td>2023-08-28 23:45:00</td>\n",
       "      <td>1404</td>\n",
       "    </tr>\n",
       "    <tr>\n",
       "      <th>Amsterdam Ave at 86th St.</th>\n",
       "      <td>2019-10-24 00:00:00</td>\n",
       "      <td>2023-08-29 23:45:00</td>\n",
       "      <td>1405</td>\n",
       "    </tr>\n",
       "    <tr>\n",
       "      <th>2nd Avenue - 26th St S</th>\n",
       "      <td>2015-05-22 09:15:00</td>\n",
       "      <td>2019-06-11 23:45:00</td>\n",
       "      <td>1481</td>\n",
       "    </tr>\n",
       "    <tr>\n",
       "      <th>8th Ave at 50th St.</th>\n",
       "      <td>2018-06-14 00:00:00</td>\n",
       "      <td>2023-08-25 23:45:00</td>\n",
       "      <td>1898</td>\n",
       "    </tr>\n",
       "    <tr>\n",
       "      <th>Pulaski Bridge</th>\n",
       "      <td>2017-06-24 00:00:00</td>\n",
       "      <td>2023-08-29 23:45:00</td>\n",
       "      <td>2257</td>\n",
       "    </tr>\n",
       "    <tr>\n",
       "      <th>1st Avenue - 26th St N - Interference testing</th>\n",
       "      <td>2013-09-11 22:00:00</td>\n",
       "      <td>2019-12-05 16:45:00</td>\n",
       "      <td>2275</td>\n",
       "    </tr>\n",
       "    <tr>\n",
       "      <th>Kent Ave btw North 8th St and North 9th St</th>\n",
       "      <td>2016-11-22 17:00:00</td>\n",
       "      <td>2023-08-26 23:45:00</td>\n",
       "      <td>2468</td>\n",
       "    </tr>\n",
       "    <tr>\n",
       "      <th>Prospect Park West</th>\n",
       "      <td>2016-11-07 16:30:00</td>\n",
       "      <td>2023-08-28 23:45:00</td>\n",
       "      <td>2485</td>\n",
       "    </tr>\n",
       "    <tr>\n",
       "      <th>Staten Island Ferry</th>\n",
       "      <td>2016-03-31 04:00:00</td>\n",
       "      <td>2023-08-29 23:45:00</td>\n",
       "      <td>2707</td>\n",
       "    </tr>\n",
       "    <tr>\n",
       "      <th>Comprehensive Brooklyn Bridge Counter</th>\n",
       "      <td>2013-12-19 10:00:00</td>\n",
       "      <td>2023-08-27 23:45:00</td>\n",
       "      <td>3538</td>\n",
       "    </tr>\n",
       "    <tr>\n",
       "      <th>Ed Koch Queensboro Bridge Shared Path</th>\n",
       "      <td>2013-12-05 11:15:00</td>\n",
       "      <td>2023-08-23 23:45:00</td>\n",
       "      <td>3548</td>\n",
       "    </tr>\n",
       "    <tr>\n",
       "      <th>Williamsburg Bridge Bike Path</th>\n",
       "      <td>2013-12-03 14:45:00</td>\n",
       "      <td>2023-08-28 23:45:00</td>\n",
       "      <td>3555</td>\n",
       "    </tr>\n",
       "    <tr>\n",
       "      <th>Manhattan Bridge Bike Comprehensive</th>\n",
       "      <td>2012-08-31 00:00:00</td>\n",
       "      <td>2023-08-27 23:45:00</td>\n",
       "      <td>4013</td>\n",
       "    </tr>\n",
       "  </tbody>\n",
       "</table>\n",
       "</div>"
      ],
      "text/plain": [
       "                                                            first  \\\n",
       "name                                                                \n",
       "Willis Ave Bikes                              2022-09-02 11:15:00   \n",
       "Fountain Ave                                  2022-08-23 10:30:00   \n",
       "111th St at 50th Ave                          2022-05-09 15:00:00   \n",
       "Kent Ave btw South 6th St. and Broadway       2014-08-14 00:00:00   \n",
       "Columbus Ave at 86th St.                      2019-10-24 00:00:00   \n",
       "Amsterdam Ave at 86th St.                     2019-10-24 00:00:00   \n",
       "2nd Avenue - 26th St S                        2015-05-22 09:15:00   \n",
       "8th Ave at 50th St.                           2018-06-14 00:00:00   \n",
       "Pulaski Bridge                                2017-06-24 00:00:00   \n",
       "1st Avenue - 26th St N - Interference testing 2013-09-11 22:00:00   \n",
       "Kent Ave btw North 8th St and North 9th St    2016-11-22 17:00:00   \n",
       "Prospect Park West                            2016-11-07 16:30:00   \n",
       "Staten Island Ferry                           2016-03-31 04:00:00   \n",
       "Comprehensive Brooklyn Bridge Counter         2013-12-19 10:00:00   \n",
       "Ed Koch Queensboro Bridge Shared Path         2013-12-05 11:15:00   \n",
       "Williamsburg Bridge Bike Path                 2013-12-03 14:45:00   \n",
       "Manhattan Bridge Bike Comprehensive           2012-08-31 00:00:00   \n",
       "\n",
       "                                                             last  runtime  \n",
       "name                                                                        \n",
       "Willis Ave Bikes                              2023-08-29 23:45:00      361  \n",
       "Fountain Ave                                  2023-08-29 23:45:00      371  \n",
       "111th St at 50th Ave                          2023-08-27 23:45:00      475  \n",
       "Kent Ave btw South 6th St. and Broadway       2016-11-21 23:45:00      830  \n",
       "Columbus Ave at 86th St.                      2023-08-28 23:45:00     1404  \n",
       "Amsterdam Ave at 86th St.                     2023-08-29 23:45:00     1405  \n",
       "2nd Avenue - 26th St S                        2019-06-11 23:45:00     1481  \n",
       "8th Ave at 50th St.                           2023-08-25 23:45:00     1898  \n",
       "Pulaski Bridge                                2023-08-29 23:45:00     2257  \n",
       "1st Avenue - 26th St N - Interference testing 2019-12-05 16:45:00     2275  \n",
       "Kent Ave btw North 8th St and North 9th St    2023-08-26 23:45:00     2468  \n",
       "Prospect Park West                            2023-08-28 23:45:00     2485  \n",
       "Staten Island Ferry                           2023-08-29 23:45:00     2707  \n",
       "Comprehensive Brooklyn Bridge Counter         2023-08-27 23:45:00     3538  \n",
       "Ed Koch Queensboro Bridge Shared Path         2023-08-23 23:45:00     3548  \n",
       "Williamsburg Bridge Bike Path                 2023-08-28 23:45:00     3555  \n",
       "Manhattan Bridge Bike Comprehensive           2023-08-27 23:45:00     4013  "
      ]
     },
     "execution_count": 315,
     "metadata": {},
     "output_type": "execute_result"
    }
   ],
   "source": [
    "# get the first and last date of each counter\n",
    "first_dates = data.reset_index().groupby('name')['date'].min()\n",
    "last_dates = data.reset_index().groupby('name')['date'].max()\n",
    "\n",
    "counter_dates = pd.DataFrame({'first': first_dates, 'last':last_dates}).sort_values(by='last')\n",
    "counter_dates['runtime'] = (counter_dates['last'] - counter_dates['first']).dt.days\n",
    "counter_dates.sort_values(by='runtime')"
   ]
  },
  {
   "cell_type": "code",
   "execution_count": 316,
   "metadata": {},
   "outputs": [],
   "source": [
    "# the two kent ave counters about 10 blocks from one another, let's combine them\n",
    "data.loc[data['name']=='Kent Ave btw South 6th St. and Broadway', ['name', 'id']] = ('Kent Ave Comprehensive', 999999999)\n",
    "\n",
    "data.loc[data['name']=='Kent Ave btw North 8th St and North 9th St', ['name', 'id']] = ('Kent Ave Comprehensive', 999999999)"
   ]
  },
  {
   "cell_type": "markdown",
   "metadata": {},
   "source": [
    "### clean anomalous data"
   ]
  },
  {
   "cell_type": "code",
   "execution_count": 317,
   "metadata": {},
   "outputs": [],
   "source": [
    "# several counters have odd spikes\n",
    "# 8th ave and 50th st. reads zero for the first year and then spikes up to 22k in a single day throughout July\n",
    "# could not find events that occurred in that July to cause a spike\n",
    "# deleting everything before 7/24/2019\n",
    "eighth_criteria = (data['id']==100057316) & (data.index < '2019-07-24')\n",
    "data = data[~eighth_criteria].copy()\n",
    "\n",
    "amsterdam_criteria = (data['id']==100057319) & (data.index < '2020-12-15')\n",
    "data = data[~amsterdam_criteria].copy()\n",
    "\n",
    "first_ave_criteria = (data['id']==100010020) & ((data.index<'2016-08-10') | (data.index>'2019-06-11'))\n",
    "data = data[~first_ave_criteria].copy()\n",
    "\n",
    "second_ave_criteria = (data['id']==100009424) & (data.index > '2018-07-14')\n",
    "data = data[~second_ave_criteria].copy()\n",
    "\n",
    "data = data.sort_index()"
   ]
  },
  {
   "cell_type": "markdown",
   "metadata": {},
   "source": [
    "### replace with pretty names"
   ]
  },
  {
   "cell_type": "code",
   "execution_count": 318,
   "metadata": {},
   "outputs": [],
   "source": [
    "pretty_names = {\n",
    "    '2nd Avenue - 26th St S': '26th St & 2nd Ave', \n",
    "    'Prospect Park West':'Prospect Pk W',\n",
    "    'Williamsburg Bridge Bike Path': 'Williamsburg Br',\n",
    "    'Ed Koch Queensboro Bridge Shared Path':'Queensboro Br', \n",
    "    'Staten Island Ferry':'Staten Isl Ferry St',\n",
    "    'Pulaski Bridge':'Pulaski Br', \n",
    "    '1st Avenue - 26th St N - Interference testing': '1st Ave & 26th St',\n",
    "    '8th Ave at 50th St.': '8th Ave & 50th St',\n",
    "    'Amsterdam Ave at 86th St.':'Amsterdam Ave & 86th St', \n",
    "    'Manhattan Bridge Bike Comprehensive':'Manhattan Bridge',\n",
    "    'Comprehensive Brooklyn Bridge Counter':'Brooklyn Br', \n",
    "    'Fountain Ave':'Fountain Ave',\n",
    "    'Columbus Ave at 86th St.':'Columbus Ave & 86th St',\n",
    "    'Kent Ave Comprehensive': 'Kent Ave', \n",
    "    '111th St at 50th Ave':'111th St & 50th Ave',\n",
    "    'Willis Ave Bikes':'Willis Ave'\n",
    "}"
   ]
  },
  {
   "cell_type": "code",
   "execution_count": 319,
   "metadata": {},
   "outputs": [],
   "source": [
    "counters['name'] = counters['name'].map(pretty_names)\n",
    "data['name'] = data['name'].map(pretty_names)"
   ]
  },
  {
   "cell_type": "code",
   "execution_count": 320,
   "metadata": {},
   "outputs": [
    {
     "data": {
      "text/html": [
       "<div>\n",
       "<style scoped>\n",
       "    .dataframe tbody tr th:only-of-type {\n",
       "        vertical-align: middle;\n",
       "    }\n",
       "\n",
       "    .dataframe tbody tr th {\n",
       "        vertical-align: top;\n",
       "    }\n",
       "\n",
       "    .dataframe thead th {\n",
       "        text-align: right;\n",
       "    }\n",
       "</style>\n",
       "<table border=\"1\" class=\"dataframe\">\n",
       "  <thead>\n",
       "    <tr style=\"text-align: right;\">\n",
       "      <th></th>\n",
       "      <th>id</th>\n",
       "      <th>name</th>\n",
       "      <th>latitude</th>\n",
       "      <th>longitude</th>\n",
       "    </tr>\n",
       "  </thead>\n",
       "  <tbody>\n",
       "    <tr>\n",
       "      <th>1</th>\n",
       "      <td>100010018</td>\n",
       "      <td>Pulaski Br</td>\n",
       "      <td>40.742563</td>\n",
       "      <td>-73.951492</td>\n",
       "    </tr>\n",
       "    <tr>\n",
       "      <th>3</th>\n",
       "      <td>999999999</td>\n",
       "      <td>Kent Ave</td>\n",
       "      <td>40.720959</td>\n",
       "      <td>-73.960930</td>\n",
       "    </tr>\n",
       "    <tr>\n",
       "      <th>8</th>\n",
       "      <td>300024007</td>\n",
       "      <td>111th St &amp; 50th Ave</td>\n",
       "      <td>40.745630</td>\n",
       "      <td>-73.852500</td>\n",
       "    </tr>\n",
       "    <tr>\n",
       "      <th>10</th>\n",
       "      <td>100009424</td>\n",
       "      <td>26th St &amp; 2nd Ave</td>\n",
       "      <td>40.739710</td>\n",
       "      <td>-73.979540</td>\n",
       "    </tr>\n",
       "    <tr>\n",
       "      <th>11</th>\n",
       "      <td>300020904</td>\n",
       "      <td>Brooklyn Br</td>\n",
       "      <td>40.711644</td>\n",
       "      <td>-74.004109</td>\n",
       "    </tr>\n",
       "    <tr>\n",
       "      <th>14</th>\n",
       "      <td>100057316</td>\n",
       "      <td>8th Ave &amp; 50th St</td>\n",
       "      <td>40.762348</td>\n",
       "      <td>-73.986120</td>\n",
       "    </tr>\n",
       "    <tr>\n",
       "      <th>15</th>\n",
       "      <td>100009427</td>\n",
       "      <td>Williamsburg Br</td>\n",
       "      <td>40.710530</td>\n",
       "      <td>-73.961450</td>\n",
       "    </tr>\n",
       "    <tr>\n",
       "      <th>16</th>\n",
       "      <td>100057320</td>\n",
       "      <td>Columbus Ave &amp; 86th St</td>\n",
       "      <td>40.787700</td>\n",
       "      <td>-73.975050</td>\n",
       "    </tr>\n",
       "    <tr>\n",
       "      <th>18</th>\n",
       "      <td>100057319</td>\n",
       "      <td>Amsterdam Ave &amp; 86th St</td>\n",
       "      <td>40.787700</td>\n",
       "      <td>-73.975050</td>\n",
       "    </tr>\n",
       "    <tr>\n",
       "      <th>20</th>\n",
       "      <td>100010020</td>\n",
       "      <td>1st Ave &amp; 26th St</td>\n",
       "      <td>40.738830</td>\n",
       "      <td>-73.977165</td>\n",
       "    </tr>\n",
       "    <tr>\n",
       "      <th>21</th>\n",
       "      <td>100009428</td>\n",
       "      <td>Queensboro Br</td>\n",
       "      <td>40.751010</td>\n",
       "      <td>-73.940450</td>\n",
       "    </tr>\n",
       "    <tr>\n",
       "      <th>23</th>\n",
       "      <td>100009425</td>\n",
       "      <td>Prospect Pk W</td>\n",
       "      <td>40.671288</td>\n",
       "      <td>-73.971382</td>\n",
       "    </tr>\n",
       "    <tr>\n",
       "      <th>24</th>\n",
       "      <td>100062893</td>\n",
       "      <td>Manhattan Bridge</td>\n",
       "      <td>40.715600</td>\n",
       "      <td>-73.994750</td>\n",
       "    </tr>\n",
       "    <tr>\n",
       "      <th>27</th>\n",
       "      <td>100010017</td>\n",
       "      <td>Staten Isl Ferry St</td>\n",
       "      <td>40.643387</td>\n",
       "      <td>-74.072075</td>\n",
       "    </tr>\n",
       "    <tr>\n",
       "      <th>28</th>\n",
       "      <td>300027723</td>\n",
       "      <td>Fountain Ave</td>\n",
       "      <td>40.655606</td>\n",
       "      <td>-73.862951</td>\n",
       "    </tr>\n",
       "    <tr>\n",
       "      <th>30</th>\n",
       "      <td>300029647</td>\n",
       "      <td>Willis Ave</td>\n",
       "      <td>40.807046</td>\n",
       "      <td>-73.924393</td>\n",
       "    </tr>\n",
       "  </tbody>\n",
       "</table>\n",
       "</div>"
      ],
      "text/plain": [
       "           id                     name   latitude  longitude\n",
       "1   100010018               Pulaski Br  40.742563 -73.951492\n",
       "3   999999999                 Kent Ave  40.720959 -73.960930\n",
       "8   300024007      111th St & 50th Ave  40.745630 -73.852500\n",
       "10  100009424        26th St & 2nd Ave  40.739710 -73.979540\n",
       "11  300020904              Brooklyn Br  40.711644 -74.004109\n",
       "14  100057316        8th Ave & 50th St  40.762348 -73.986120\n",
       "15  100009427          Williamsburg Br  40.710530 -73.961450\n",
       "16  100057320   Columbus Ave & 86th St  40.787700 -73.975050\n",
       "18  100057319  Amsterdam Ave & 86th St  40.787700 -73.975050\n",
       "20  100010020        1st Ave & 26th St  40.738830 -73.977165\n",
       "21  100009428            Queensboro Br  40.751010 -73.940450\n",
       "23  100009425            Prospect Pk W  40.671288 -73.971382\n",
       "24  100062893         Manhattan Bridge  40.715600 -73.994750\n",
       "27  100010017      Staten Isl Ferry St  40.643387 -74.072075\n",
       "28  300027723             Fountain Ave  40.655606 -73.862951\n",
       "30  300029647               Willis Ave  40.807046 -73.924393"
      ]
     },
     "execution_count": 320,
     "metadata": {},
     "output_type": "execute_result"
    }
   ],
   "source": [
    "counters"
   ]
  },
  {
   "cell_type": "code",
   "execution_count": 321,
   "metadata": {},
   "outputs": [],
   "source": [
    "counters.set_index('id').to_pickle('data/counters.pkl')"
   ]
  },
  {
   "cell_type": "markdown",
   "metadata": {},
   "source": [
    "# groupby hour"
   ]
  },
  {
   "cell_type": "code",
   "execution_count": 322,
   "metadata": {},
   "outputs": [],
   "source": [
    "# first aggregate up the 15 min counts to the hour level\n",
    "# group by week but preserve the year so we have all historical data\n",
    "historical_hr = data.reset_index()[['date', 'id', 'counts', 'name']]\\\n",
    "                    .groupby([pd.Grouper(key='date', freq='H'), 'id', 'name'])\\\n",
    "                    .sum()\\\n",
    "                    .reset_index()"
   ]
  },
  {
   "cell_type": "code",
   "execution_count": 323,
   "metadata": {},
   "outputs": [],
   "source": [
    "# get hour of day for display\n",
    "def get_time(hour):\n",
    "    hour_string = str(hour).zfill(2)\n",
    "    time_string = hour_string + ':00' + ':00'\n",
    "    return pd.to_datetime(time_string, format='%H:%M:%S', utc=True)"
   ]
  },
  {
   "cell_type": "code",
   "execution_count": 324,
   "metadata": {},
   "outputs": [],
   "source": [
    "#groupby hour and take mean\n",
    "hr = historical_hr.groupby([historical_hr['date'].dt.hour, 'id', 'name']).mean()\n",
    "hr['display_time'] = hr.index.get_level_values('date').to_series().apply(lambda x: get_time(x)).values"
   ]
  },
  {
   "cell_type": "code",
   "execution_count": 325,
   "metadata": {},
   "outputs": [],
   "source": [
    "hr.to_pickle('data/by_hour.pkl')"
   ]
  },
  {
   "cell_type": "markdown",
   "metadata": {},
   "source": [
    "## groupby week"
   ]
  },
  {
   "cell_type": "code",
   "execution_count": 326,
   "metadata": {},
   "outputs": [],
   "source": [
    "# group by week but preserve the year so we have all historical data\n",
    "historical_wk = data.reset_index()[['date', 'id', 'counts', 'name']]\\\n",
    "                    .groupby([pd.Grouper(key='date', freq='W-MON'), 'id', 'name'])\\\n",
    "                    .sum()"
   ]
  },
  {
   "cell_type": "code",
   "execution_count": 327,
   "metadata": {},
   "outputs": [],
   "source": [
    "# get month of year given week number\n",
    "def get_month(week_number, year):\n",
    "    first_day = datetime.fromisocalendar(year, week_number, 1)\n",
    "    return first_day.strftime('%m-%d')"
   ]
  },
  {
   "cell_type": "code",
   "execution_count": 328,
   "metadata": {},
   "outputs": [
    {
     "name": "stderr",
     "output_type": "stream",
     "text": [
      "/var/folders/4p/cnm8c74x2cscn3bny0pr_bvr0000gn/T/ipykernel_82121/809708603.py:2: FutureWarning: Series.dt.weekofyear and Series.dt.week have been deprecated. Please use Series.dt.isocalendar().week instead.\n",
      "  wk = historical_wk_noidx.groupby([historical_wk_noidx['date'].dt.week,'id', 'name']).mean()\n"
     ]
    }
   ],
   "source": [
    "historical_wk_noidx = historical_wk.reset_index()\n",
    "wk = historical_wk_noidx.groupby([historical_wk_noidx['date'].dt.week,'id', 'name']).mean()\n",
    "wk = wk.loc[wk.index.get_level_values('date')!=53]\n",
    "wk['display_date'] = wk.index.get_level_values('date').to_series().apply(lambda x: get_month(x,2021)).values"
   ]
  },
  {
   "cell_type": "code",
   "execution_count": 329,
   "metadata": {},
   "outputs": [],
   "source": [
    "wk.to_pickle('data/by_week.pkl')"
   ]
  },
  {
   "cell_type": "markdown",
   "metadata": {},
   "source": [
    "## make app data"
   ]
  },
  {
   "cell_type": "code",
   "execution_count": 330,
   "metadata": {},
   "outputs": [],
   "source": [
    "# to save time on the color mapping, map colors ahead of time\n",
    "\n",
    "# colors\n",
    "cat_20 = ['#1f77b4',\n",
    "    '#aec7e8',\n",
    "    '#ff7f0e',\n",
    "    '#ffbb78',\n",
    "    '#2ca02c',\n",
    "    '#98df8a',\n",
    "    '#d62728',\n",
    "    '#ff9896',\n",
    "    '#9467bd',\n",
    "    '#c5b0d5',\n",
    "    '#8c564b',\n",
    "    '#c49c94',\n",
    "    '#e377c2',\n",
    "    '#f7b6d2',\n",
    "    '#7f7f7f',\n",
    "    '#c7c7c7',\n",
    "    '#bcbd22',\n",
    "    '#dbdb8d',\n",
    "    '#17becf',\n",
    "    '#9edae5'\n",
    "    ]\n",
    "\n",
    "num_counters = len(counters)\n",
    "counter_ids = counters['id'].unique()\n",
    "color_indices = np.linspace(0, len(cat_20)-1, num_counters, dtype=int)\n",
    "colors = [cat_20[x] for x in color_indices]\n",
    "color_dict = dict(zip(counter_ids, colors))"
   ]
  },
  {
   "cell_type": "code",
   "execution_count": 331,
   "metadata": {},
   "outputs": [],
   "source": [
    "counter_display = counters.copy()\n",
    "counter_display['color'] = counter_display['id'].map(color_dict)\n",
    "counter_display.set_index('id').to_pickle('data/streamlit_counters.pkl')\n",
    "\n",
    "hr_display = hr.copy()\n",
    "hr_display['color'] = hr_display.index.get_level_values('id').map(color_dict)\n",
    "hr_display.to_pickle('data/streamlit_by_hr.pkl')\n",
    "\n",
    "wk_display = wk.copy()\n",
    "wk_display['color'] = wk_display.index.get_level_values('id').map(color_dict)\n",
    "wk_display.to_pickle('data/streamlit_by_wk.pkl')\n",
    "\n",
    "historical_wk_display = historical_wk.copy()\n",
    "historical_wk_display['id'] = historical_wk_display.index.get_level_values('id').astype(int)\n",
    "historical_wk_display['color'] = historical_wk_display['id'].map(color_dict)\n",
    "historical_wk_display = historical_wk_display.drop(columns=['id'])\n",
    "cutoff = '2015-01-01'\n",
    "historical_wk_display = historical_wk_display.loc[historical_wk_display.index.get_level_values('date') >= cutoff ]\n",
    "historical_wk_display.to_pickle('data/streamlit_hist_by_wk.pkl')"
   ]
  },
  {
   "cell_type": "code",
   "execution_count": null,
   "metadata": {},
   "outputs": [],
   "source": []
  }
 ],
 "metadata": {
  "kernelspec": {
   "display_name": "base",
   "language": "python",
   "name": "python3"
  },
  "language_info": {
   "codemirror_mode": {
    "name": "ipython",
    "version": 3
   },
   "file_extension": ".py",
   "mimetype": "text/x-python",
   "name": "python",
   "nbconvert_exporter": "python",
   "pygments_lexer": "ipython3",
   "version": "3.9.17"
  },
  "orig_nbformat": 4
 },
 "nbformat": 4,
 "nbformat_minor": 2
}
